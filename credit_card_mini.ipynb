{
  "nbformat": 4,
  "nbformat_minor": 0,
  "metadata": {
    "colab": {
      "provenance": [],
      "authorship_tag": "ABX9TyOC1Fm9Mb91Wd/gt93TwzKc",
      "include_colab_link": true
    },
    "kernelspec": {
      "name": "python3",
      "display_name": "Python 3"
    },
    "language_info": {
      "name": "python"
    }
  },
  "cells": [
    {
      "cell_type": "markdown",
      "metadata": {
        "id": "view-in-github",
        "colab_type": "text"
      },
      "source": [
        "<a href=\"https://colab.research.google.com/github/Prajwalng2/Credit-card-fraud-detection/blob/main/credit_card_mini.ipynb\" target=\"_parent\"><img src=\"https://colab.research.google.com/assets/colab-badge.svg\" alt=\"Open In Colab\"/></a>"
      ]
    },
    {
      "cell_type": "code",
      "source": [
        "import pandas as pd\n",
        "df = pd.read_csv('creditcard.csv')"
      ],
      "metadata": {
        "id": "3B33NGkuzKbu"
      },
      "execution_count": 1,
      "outputs": []
    },
    {
      "cell_type": "code",
      "source": [
        "df.shape\n",
        "df.columns"
      ],
      "metadata": {
        "colab": {
          "base_uri": "https://localhost:8080/"
        },
        "id": "Jdbt71FazvdW",
        "outputId": "26864fb0-4f7b-4e75-f154-9ba94f214b6e"
      },
      "execution_count": 2,
      "outputs": [
        {
          "output_type": "execute_result",
          "data": {
            "text/plain": [
              "Index(['Time', 'V1', 'V2', 'V3', 'V4', 'V5', 'V6', 'V7', 'V8', 'V9', 'V10',\n",
              "       'V11', 'V12', 'V13', 'V14', 'V15', 'V16', 'V17', 'V18', 'V19', 'V20',\n",
              "       'V21', 'V22', 'V23', 'V24', 'V25', 'V26', 'V27', 'V28', 'Amount',\n",
              "       'Class'],\n",
              "      dtype='object')"
            ]
          },
          "metadata": {},
          "execution_count": 2
        }
      ]
    },
    {
      "cell_type": "code",
      "source": [
        "from sklearn.preprocessing import RobustScaler\n",
        "\n",
        "scaler = RobustScaler()\n",
        "df[['Amount', 'Time']] = scaler.fit_transform(df[['Amount', 'Time']])\n"
      ],
      "metadata": {
        "id": "N-gaqdqMz0Qz"
      },
      "execution_count": 3,
      "outputs": []
    },
    {
      "cell_type": "code",
      "source": [
        "df = df.sample(frac=1, random_state=42)\n",
        "df\n",
        "\n",
        "not_frauds = df[df['Class'] == 0]\n",
        "frauds = df[df['Class'] == 1]\n",
        "\n",
        "balanced_df = pd.concat([frauds, not_frauds.sample(n=len(frauds), random_state=42)])\n",
        "\n",
        "balanced_df = balanced_df.sample(frac=1, random_state=42)\n",
        "\n",
        "balanced_df['Class'].value_counts()\n"
      ],
      "metadata": {
        "colab": {
          "base_uri": "https://localhost:8080/"
        },
        "id": "lpGBg9i_0XWh",
        "outputId": "e93686bd-2b46-4379-d1b9-fd1e6e3fcd37"
      },
      "execution_count": 5,
      "outputs": [
        {
          "output_type": "execute_result",
          "data": {
            "text/plain": [
              "Class\n",
              "1.0    3\n",
              "0.0    3\n",
              "Name: count, dtype: int64"
            ]
          },
          "metadata": {},
          "execution_count": 5
        }
      ]
    },
    {
      "cell_type": "code",
      "source": [
        "from sklearn.model_selection import train_test_split\n",
        "balanced_df_np = balanced_df.to_numpy()\n",
        "\n",
        "\n",
        "x_train_val_b, x_test_b, y_train_val_b, y_test_b = train_test_split(\n",
        "    balanced_df_np[:, :-1], balanced_df_np[:, -1].astype(int), test_size=0.15, random_state=42\n",
        ")\n",
        "x_train_b, x_val_b, y_train_b, y_val_b = train_test_split(\n",
        "    x_train_val_b, y_train_val_b, test_size=0.15, random_state=42\n",
        ")\n",
        "\n",
        "\n",
        "x_train_b.shape, y_train_b.shape, x_test_b.shape, y_test_b.shape, x_val_b.shape, y_val_b.shape\n",
        "\n",
        "\n",
        "\n",
        "pd.Series(y_train_b).value_counts(), pd.Series(y_test_b).value_counts(), pd.Series(y_val_b).value_counts()\n"
      ],
      "metadata": {
        "colab": {
          "base_uri": "https://localhost:8080/"
        },
        "id": "kDeKSUY40aGF",
        "outputId": "fe04e01d-9c8b-45fd-863d-80cd6b3cca44"
      },
      "execution_count": 7,
      "outputs": [
        {
          "output_type": "execute_result",
          "data": {
            "text/plain": [
              "(1    2\n",
              " 0    2\n",
              " Name: count, dtype: int64,\n",
              " 1    1\n",
              " Name: count, dtype: int64,\n",
              " 0    1\n",
              " Name: count, dtype: int64)"
            ]
          },
          "metadata": {},
          "execution_count": 7
        }
      ]
    },
    {
      "cell_type": "code",
      "source": [
        "from keras.models import Sequential\n",
        "from keras.layers import InputLayer, Dense, BatchNormalization\n",
        "\n",
        "shallow_nn = Sequential()\n",
        "shallow_nn.add(InputLayer(input_shape=(x_train_b.shape[1],)))\n",
        "shallow_nn.add(Dense(2, activation='relu'))\n",
        "shallow_nn.add(BatchNormalization())\n",
        "shallow_nn.add(Dense(1, activation='sigmoid'))\n"
      ],
      "metadata": {
        "id": "ZLWqW5312zve"
      },
      "execution_count": 9,
      "outputs": []
    },
    {
      "cell_type": "code",
      "source": [
        "from keras.callbacks import ModelCheckpoint\n",
        "\n",
        "checkpoint = ModelCheckpoint('shallow_nn', save_best_only=True)\n",
        "\n",
        "shallow_nn.compile(optimizer='adam', loss='binary_crossentropy', metrics=['accuracy'])\n",
        "\n",
        "shallow_nn.fit(x_train_b, y_train_b, validation_data=(x_val_b, y_val_b), epochs=40, callbacks=[checkpoint])\n"
      ],
      "metadata": {
        "colab": {
          "base_uri": "https://localhost:8080/"
        },
        "id": "vOlALF563GP3",
        "outputId": "94d00a0d-3ca1-4f1b-95f0-6f8b3a7bbf26"
      },
      "execution_count": 11,
      "outputs": [
        {
          "output_type": "stream",
          "name": "stdout",
          "text": [
            "Epoch 1/40\n",
            "1/1 [==============================] - 2s 2s/step - loss: 0.3355 - accuracy: 0.7500 - val_loss: 1.5481 - val_accuracy: 0.0000e+00\n",
            "Epoch 2/40\n",
            "1/1 [==============================] - 1s 863ms/step - loss: 0.3215 - accuracy: 0.7500 - val_loss: 1.5370 - val_accuracy: 0.0000e+00\n",
            "Epoch 3/40\n",
            "1/1 [==============================] - 1s 918ms/step - loss: 0.3079 - accuracy: 0.7500 - val_loss: 1.5254 - val_accuracy: 0.0000e+00\n",
            "Epoch 4/40\n",
            "1/1 [==============================] - 1s 956ms/step - loss: 0.2946 - accuracy: 0.7500 - val_loss: 1.5135 - val_accuracy: 0.0000e+00\n",
            "Epoch 5/40\n",
            "1/1 [==============================] - 1s 670ms/step - loss: 0.2816 - accuracy: 0.7500 - val_loss: 1.5015 - val_accuracy: 0.0000e+00\n",
            "Epoch 6/40\n",
            "1/1 [==============================] - 0s 475ms/step - loss: 0.2690 - accuracy: 0.7500 - val_loss: 1.4894 - val_accuracy: 0.0000e+00\n",
            "Epoch 7/40\n",
            "1/1 [==============================] - 0s 474ms/step - loss: 0.2569 - accuracy: 1.0000 - val_loss: 1.4773 - val_accuracy: 0.0000e+00\n",
            "Epoch 8/40\n",
            "1/1 [==============================] - 0s 462ms/step - loss: 0.2451 - accuracy: 1.0000 - val_loss: 1.4652 - val_accuracy: 0.0000e+00\n",
            "Epoch 9/40\n",
            "1/1 [==============================] - 0s 464ms/step - loss: 0.2338 - accuracy: 1.0000 - val_loss: 1.4532 - val_accuracy: 0.0000e+00\n",
            "Epoch 10/40\n",
            "1/1 [==============================] - 1s 787ms/step - loss: 0.2230 - accuracy: 1.0000 - val_loss: 1.4412 - val_accuracy: 0.0000e+00\n",
            "Epoch 11/40\n",
            "1/1 [==============================] - 0s 489ms/step - loss: 0.2126 - accuracy: 1.0000 - val_loss: 1.4293 - val_accuracy: 0.0000e+00\n",
            "Epoch 12/40\n",
            "1/1 [==============================] - 0s 470ms/step - loss: 0.2028 - accuracy: 1.0000 - val_loss: 1.4174 - val_accuracy: 0.0000e+00\n",
            "Epoch 13/40\n",
            "1/1 [==============================] - 0s 473ms/step - loss: 0.1934 - accuracy: 1.0000 - val_loss: 1.4057 - val_accuracy: 0.0000e+00\n",
            "Epoch 14/40\n",
            "1/1 [==============================] - 0s 437ms/step - loss: 0.1846 - accuracy: 1.0000 - val_loss: 1.3940 - val_accuracy: 0.0000e+00\n",
            "Epoch 15/40\n",
            "1/1 [==============================] - 1s 616ms/step - loss: 0.1763 - accuracy: 1.0000 - val_loss: 1.3824 - val_accuracy: 0.0000e+00\n",
            "Epoch 16/40\n",
            "1/1 [==============================] - 1s 632ms/step - loss: 0.1685 - accuracy: 1.0000 - val_loss: 1.3709 - val_accuracy: 0.0000e+00\n",
            "Epoch 17/40\n",
            "1/1 [==============================] - 1s 760ms/step - loss: 0.1613 - accuracy: 1.0000 - val_loss: 1.3594 - val_accuracy: 0.0000e+00\n",
            "Epoch 18/40\n",
            "1/1 [==============================] - 1s 762ms/step - loss: 0.1546 - accuracy: 1.0000 - val_loss: 1.3479 - val_accuracy: 0.0000e+00\n",
            "Epoch 19/40\n",
            "1/1 [==============================] - 0s 485ms/step - loss: 0.1484 - accuracy: 1.0000 - val_loss: 1.3365 - val_accuracy: 0.0000e+00\n",
            "Epoch 20/40\n",
            "1/1 [==============================] - 0s 485ms/step - loss: 0.1427 - accuracy: 1.0000 - val_loss: 1.3250 - val_accuracy: 0.0000e+00\n",
            "Epoch 21/40\n",
            "1/1 [==============================] - 0s 467ms/step - loss: 0.1376 - accuracy: 1.0000 - val_loss: 1.3135 - val_accuracy: 0.0000e+00\n",
            "Epoch 22/40\n",
            "1/1 [==============================] - 1s 508ms/step - loss: 0.1329 - accuracy: 1.0000 - val_loss: 1.3020 - val_accuracy: 0.0000e+00\n",
            "Epoch 23/40\n",
            "1/1 [==============================] - 1s 1s/step - loss: 0.1288 - accuracy: 1.0000 - val_loss: 1.2904 - val_accuracy: 0.0000e+00\n",
            "Epoch 24/40\n",
            "1/1 [==============================] - 0s 476ms/step - loss: 0.1250 - accuracy: 1.0000 - val_loss: 1.2787 - val_accuracy: 0.0000e+00\n",
            "Epoch 25/40\n",
            "1/1 [==============================] - 1s 500ms/step - loss: 0.1217 - accuracy: 1.0000 - val_loss: 1.2670 - val_accuracy: 0.0000e+00\n",
            "Epoch 26/40\n",
            "1/1 [==============================] - 0s 461ms/step - loss: 0.1189 - accuracy: 1.0000 - val_loss: 1.2551 - val_accuracy: 0.0000e+00\n",
            "Epoch 27/40\n",
            "1/1 [==============================] - 1s 518ms/step - loss: 0.1163 - accuracy: 1.0000 - val_loss: 1.2432 - val_accuracy: 0.0000e+00\n",
            "Epoch 28/40\n",
            "1/1 [==============================] - 1s 530ms/step - loss: 0.1141 - accuracy: 1.0000 - val_loss: 1.2311 - val_accuracy: 0.0000e+00\n",
            "Epoch 29/40\n",
            "1/1 [==============================] - 1s 534ms/step - loss: 0.1122 - accuracy: 1.0000 - val_loss: 1.2188 - val_accuracy: 0.0000e+00\n",
            "Epoch 30/40\n",
            "1/1 [==============================] - 1s 517ms/step - loss: 0.1106 - accuracy: 1.0000 - val_loss: 1.2064 - val_accuracy: 0.0000e+00\n",
            "Epoch 31/40\n",
            "1/1 [==============================] - 0s 493ms/step - loss: 0.1092 - accuracy: 1.0000 - val_loss: 1.1938 - val_accuracy: 0.0000e+00\n",
            "Epoch 32/40\n",
            "1/1 [==============================] - 0s 466ms/step - loss: 0.1079 - accuracy: 1.0000 - val_loss: 1.1810 - val_accuracy: 0.0000e+00\n",
            "Epoch 33/40\n",
            "1/1 [==============================] - 0s 477ms/step - loss: 0.1069 - accuracy: 1.0000 - val_loss: 1.1682 - val_accuracy: 0.0000e+00\n",
            "Epoch 34/40\n",
            "1/1 [==============================] - 0s 462ms/step - loss: 0.1059 - accuracy: 1.0000 - val_loss: 1.1551 - val_accuracy: 0.0000e+00\n",
            "Epoch 35/40\n",
            "1/1 [==============================] - 1s 777ms/step - loss: 0.1051 - accuracy: 1.0000 - val_loss: 1.1419 - val_accuracy: 0.0000e+00\n",
            "Epoch 36/40\n",
            "1/1 [==============================] - 0s 459ms/step - loss: 0.1043 - accuracy: 1.0000 - val_loss: 1.1286 - val_accuracy: 0.0000e+00\n",
            "Epoch 37/40\n",
            "1/1 [==============================] - 1s 633ms/step - loss: 0.1036 - accuracy: 1.0000 - val_loss: 1.1152 - val_accuracy: 0.0000e+00\n",
            "Epoch 38/40\n",
            "1/1 [==============================] - 1s 645ms/step - loss: 0.1029 - accuracy: 1.0000 - val_loss: 1.1017 - val_accuracy: 0.0000e+00\n",
            "Epoch 39/40\n",
            "1/1 [==============================] - 1s 745ms/step - loss: 0.1022 - accuracy: 1.0000 - val_loss: 1.0881 - val_accuracy: 0.0000e+00\n",
            "Epoch 40/40\n",
            "1/1 [==============================] - 1s 714ms/step - loss: 0.1016 - accuracy: 1.0000 - val_loss: 1.0745 - val_accuracy: 0.0000e+00\n"
          ]
        },
        {
          "output_type": "execute_result",
          "data": {
            "text/plain": [
              "<keras.src.callbacks.History at 0x7b4599e0b2e0>"
            ]
          },
          "metadata": {},
          "execution_count": 11
        }
      ]
    },
    {
      "cell_type": "code",
      "source": [
        "\n",
        "shallow_nn_b = shallow_nn\n",
        "\n",
        "\n",
        "shallow_nn_b.compile(optimizer='adam', loss='binary_crossentropy', metrics=['accuracy'])\n",
        "\n",
        "\n",
        "shallow_nn_b.fit(x_train_b, y_train_b, validation_data=(x_val_b, y_val_b), epochs=40)\n",
        "\n",
        "neural_net_predictions(shallow_nn_b, x_val_b)\n"
      ],
      "metadata": {
        "colab": {
          "base_uri": "https://localhost:8080/"
        },
        "id": "z9Z-ZYVp3f9k",
        "outputId": "6030b520-1665-4656-b11a-23f5eb0b94c6"
      },
      "execution_count": 14,
      "outputs": [
        {
          "output_type": "stream",
          "name": "stdout",
          "text": [
            "Epoch 1/40\n",
            "1/1 [==============================] - 1s 725ms/step - loss: 0.0775 - accuracy: 1.0000 - val_loss: 0.5128 - val_accuracy: 1.0000\n",
            "Epoch 2/40\n",
            "1/1 [==============================] - 0s 26ms/step - loss: 0.0771 - accuracy: 1.0000 - val_loss: 0.5022 - val_accuracy: 1.0000\n",
            "Epoch 3/40\n",
            "1/1 [==============================] - 0s 24ms/step - loss: 0.0767 - accuracy: 1.0000 - val_loss: 0.4921 - val_accuracy: 1.0000\n",
            "Epoch 4/40\n",
            "1/1 [==============================] - 0s 24ms/step - loss: 0.0762 - accuracy: 1.0000 - val_loss: 0.4823 - val_accuracy: 1.0000\n",
            "Epoch 5/40\n",
            "1/1 [==============================] - 0s 24ms/step - loss: 0.0758 - accuracy: 1.0000 - val_loss: 0.4721 - val_accuracy: 1.0000\n",
            "Epoch 6/40\n",
            "1/1 [==============================] - 0s 24ms/step - loss: 0.0754 - accuracy: 1.0000 - val_loss: 0.4615 - val_accuracy: 1.0000\n",
            "Epoch 7/40\n",
            "1/1 [==============================] - 0s 34ms/step - loss: 0.0750 - accuracy: 1.0000 - val_loss: 0.4507 - val_accuracy: 1.0000\n",
            "Epoch 8/40\n",
            "1/1 [==============================] - 0s 24ms/step - loss: 0.0746 - accuracy: 1.0000 - val_loss: 0.4398 - val_accuracy: 1.0000\n",
            "Epoch 9/40\n",
            "1/1 [==============================] - 0s 25ms/step - loss: 0.0742 - accuracy: 1.0000 - val_loss: 0.4291 - val_accuracy: 1.0000\n",
            "Epoch 10/40\n",
            "1/1 [==============================] - 0s 25ms/step - loss: 0.0739 - accuracy: 1.0000 - val_loss: 0.4186 - val_accuracy: 1.0000\n",
            "Epoch 11/40\n",
            "1/1 [==============================] - 0s 25ms/step - loss: 0.0735 - accuracy: 1.0000 - val_loss: 0.4084 - val_accuracy: 1.0000\n",
            "Epoch 12/40\n",
            "1/1 [==============================] - 0s 24ms/step - loss: 0.0731 - accuracy: 1.0000 - val_loss: 0.3986 - val_accuracy: 1.0000\n",
            "Epoch 13/40\n",
            "1/1 [==============================] - 0s 25ms/step - loss: 0.0727 - accuracy: 1.0000 - val_loss: 0.3891 - val_accuracy: 1.0000\n",
            "Epoch 14/40\n",
            "1/1 [==============================] - 0s 24ms/step - loss: 0.0724 - accuracy: 1.0000 - val_loss: 0.3799 - val_accuracy: 1.0000\n",
            "Epoch 15/40\n",
            "1/1 [==============================] - 0s 26ms/step - loss: 0.0720 - accuracy: 1.0000 - val_loss: 0.3711 - val_accuracy: 1.0000\n",
            "Epoch 16/40\n",
            "1/1 [==============================] - 0s 25ms/step - loss: 0.0716 - accuracy: 1.0000 - val_loss: 0.3626 - val_accuracy: 1.0000\n",
            "Epoch 17/40\n",
            "1/1 [==============================] - 0s 29ms/step - loss: 0.0713 - accuracy: 1.0000 - val_loss: 0.3545 - val_accuracy: 1.0000\n",
            "Epoch 18/40\n",
            "1/1 [==============================] - 0s 25ms/step - loss: 0.0709 - accuracy: 1.0000 - val_loss: 0.3467 - val_accuracy: 1.0000\n",
            "Epoch 19/40\n",
            "1/1 [==============================] - 0s 26ms/step - loss: 0.0706 - accuracy: 1.0000 - val_loss: 0.3392 - val_accuracy: 1.0000\n",
            "Epoch 20/40\n",
            "1/1 [==============================] - 0s 25ms/step - loss: 0.0703 - accuracy: 1.0000 - val_loss: 0.3320 - val_accuracy: 1.0000\n",
            "Epoch 21/40\n",
            "1/1 [==============================] - 0s 26ms/step - loss: 0.0699 - accuracy: 1.0000 - val_loss: 0.3251 - val_accuracy: 1.0000\n",
            "Epoch 22/40\n",
            "1/1 [==============================] - 0s 27ms/step - loss: 0.0696 - accuracy: 1.0000 - val_loss: 0.3182 - val_accuracy: 1.0000\n",
            "Epoch 23/40\n",
            "1/1 [==============================] - 0s 25ms/step - loss: 0.0693 - accuracy: 1.0000 - val_loss: 0.3116 - val_accuracy: 1.0000\n",
            "Epoch 24/40\n",
            "1/1 [==============================] - 0s 29ms/step - loss: 0.0689 - accuracy: 1.0000 - val_loss: 0.3051 - val_accuracy: 1.0000\n",
            "Epoch 25/40\n",
            "1/1 [==============================] - 0s 26ms/step - loss: 0.0686 - accuracy: 1.0000 - val_loss: 0.2988 - val_accuracy: 1.0000\n",
            "Epoch 26/40\n",
            "1/1 [==============================] - 0s 26ms/step - loss: 0.0683 - accuracy: 1.0000 - val_loss: 0.2926 - val_accuracy: 1.0000\n",
            "Epoch 27/40\n",
            "1/1 [==============================] - 0s 26ms/step - loss: 0.0680 - accuracy: 1.0000 - val_loss: 0.2866 - val_accuracy: 1.0000\n",
            "Epoch 28/40\n",
            "1/1 [==============================] - 0s 28ms/step - loss: 0.0677 - accuracy: 1.0000 - val_loss: 0.2808 - val_accuracy: 1.0000\n",
            "Epoch 29/40\n",
            "1/1 [==============================] - 0s 28ms/step - loss: 0.0674 - accuracy: 1.0000 - val_loss: 0.2752 - val_accuracy: 1.0000\n",
            "Epoch 30/40\n",
            "1/1 [==============================] - 0s 25ms/step - loss: 0.0671 - accuracy: 1.0000 - val_loss: 0.2697 - val_accuracy: 1.0000\n",
            "Epoch 31/40\n",
            "1/1 [==============================] - 0s 28ms/step - loss: 0.0667 - accuracy: 1.0000 - val_loss: 0.2644 - val_accuracy: 1.0000\n",
            "Epoch 32/40\n",
            "1/1 [==============================] - 0s 27ms/step - loss: 0.0664 - accuracy: 1.0000 - val_loss: 0.2593 - val_accuracy: 1.0000\n",
            "Epoch 33/40\n",
            "1/1 [==============================] - 0s 26ms/step - loss: 0.0661 - accuracy: 1.0000 - val_loss: 0.2543 - val_accuracy: 1.0000\n",
            "Epoch 34/40\n",
            "1/1 [==============================] - 0s 30ms/step - loss: 0.0659 - accuracy: 1.0000 - val_loss: 0.2496 - val_accuracy: 1.0000\n",
            "Epoch 35/40\n",
            "1/1 [==============================] - 0s 26ms/step - loss: 0.0656 - accuracy: 1.0000 - val_loss: 0.2451 - val_accuracy: 1.0000\n",
            "Epoch 36/40\n",
            "1/1 [==============================] - 0s 25ms/step - loss: 0.0653 - accuracy: 1.0000 - val_loss: 0.2407 - val_accuracy: 1.0000\n",
            "Epoch 37/40\n",
            "1/1 [==============================] - 0s 28ms/step - loss: 0.0650 - accuracy: 1.0000 - val_loss: 0.2364 - val_accuracy: 1.0000\n",
            "Epoch 38/40\n",
            "1/1 [==============================] - 0s 27ms/step - loss: 0.0647 - accuracy: 1.0000 - val_loss: 0.2323 - val_accuracy: 1.0000\n",
            "Epoch 39/40\n",
            "1/1 [==============================] - 0s 25ms/step - loss: 0.0644 - accuracy: 1.0000 - val_loss: 0.2283 - val_accuracy: 1.0000\n",
            "Epoch 40/40\n",
            "1/1 [==============================] - 0s 25ms/step - loss: 0.0641 - accuracy: 1.0000 - val_loss: 0.2245 - val_accuracy: 1.0000\n",
            "1/1 [==============================] - 0s 67ms/step\n"
          ]
        },
        {
          "output_type": "execute_result",
          "data": {
            "text/plain": [
              "array([0])"
            ]
          },
          "metadata": {},
          "execution_count": 14
        }
      ]
    },
    {
      "cell_type": "code",
      "source": [
        "from sklearn.metrics import classification_report\n",
        "\n",
        "\n",
        "predictions = neural_net_predictions(shallow_nn, x_val_b)\n",
        "\n",
        "\n",
        "print(classification_report(y_val_b, predictions, labels=[0, 1], target_names=['Not Fraud', 'Fraud']))\n"
      ],
      "metadata": {
        "colab": {
          "base_uri": "https://localhost:8080/"
        },
        "id": "RzccfR-n38f4",
        "outputId": "711b0334-0b36-4347-905b-6bd906494710"
      },
      "execution_count": 16,
      "outputs": [
        {
          "output_type": "stream",
          "name": "stdout",
          "text": [
            "1/1 [==============================] - 0s 15ms/step\n",
            "              precision    recall  f1-score   support\n",
            "\n",
            "   Not Fraud       1.00      1.00      1.00         1\n",
            "       Fraud       0.00      0.00      0.00         0\n",
            "\n",
            "   micro avg       1.00      1.00      1.00         1\n",
            "   macro avg       0.50      0.50      0.50         1\n",
            "weighted avg       1.00      1.00      1.00         1\n",
            "\n"
          ]
        },
        {
          "output_type": "stream",
          "name": "stderr",
          "text": [
            "/usr/local/lib/python3.10/dist-packages/sklearn/metrics/_classification.py:1344: UndefinedMetricWarning: Precision and F-score are ill-defined and being set to 0.0 in labels with no predicted samples. Use `zero_division` parameter to control this behavior.\n",
            "  _warn_prf(average, modifier, msg_start, len(result))\n",
            "/usr/local/lib/python3.10/dist-packages/sklearn/metrics/_classification.py:1344: UndefinedMetricWarning: Recall and F-score are ill-defined and being set to 0.0 in labels with no true samples. Use `zero_division` parameter to control this behavior.\n",
            "  _warn_prf(average, modifier, msg_start, len(result))\n",
            "/usr/local/lib/python3.10/dist-packages/sklearn/metrics/_classification.py:1344: UndefinedMetricWarning: Precision and F-score are ill-defined and being set to 0.0 in labels with no predicted samples. Use `zero_division` parameter to control this behavior.\n",
            "  _warn_prf(average, modifier, msg_start, len(result))\n",
            "/usr/local/lib/python3.10/dist-packages/sklearn/metrics/_classification.py:1344: UndefinedMetricWarning: Recall and F-score are ill-defined and being set to 0.0 in labels with no true samples. Use `zero_division` parameter to control this behavior.\n",
            "  _warn_prf(average, modifier, msg_start, len(result))\n",
            "/usr/local/lib/python3.10/dist-packages/sklearn/metrics/_classification.py:1344: UndefinedMetricWarning: Precision and F-score are ill-defined and being set to 0.0 in labels with no predicted samples. Use `zero_division` parameter to control this behavior.\n",
            "  _warn_prf(average, modifier, msg_start, len(result))\n",
            "/usr/local/lib/python3.10/dist-packages/sklearn/metrics/_classification.py:1344: UndefinedMetricWarning: Recall and F-score are ill-defined and being set to 0.0 in labels with no true samples. Use `zero_division` parameter to control this behavior.\n",
            "  _warn_prf(average, modifier, msg_start, len(result))\n"
          ]
        }
      ]
    },
    {
      "cell_type": "code",
      "source": [
        "shallow_nn.save(\"shallow_nn_b_model.n5\")"
      ],
      "metadata": {
        "id": "alObItcp4FtB"
      },
      "execution_count": 17,
      "outputs": []
    }
  ]
}